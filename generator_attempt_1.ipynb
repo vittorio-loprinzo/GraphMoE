{
 "cells": [
  {
   "cell_type": "code",
   "execution_count": 1,
   "metadata": {},
   "outputs": [],
   "source": [
    "import torch.nn as nn\n",
    "import torch.nn.functional as F"
   ]
  },
  {
   "cell_type": "code",
   "execution_count": null,
   "metadata": {},
   "outputs": [],
   "source": [
    "class sbm_net1(nn.Module):\n",
    "    def __init__(self, num_classes=2):\n",
    "        super(SimpleNet, self).__init__()\n",
    "        \n",
    "        self.sumpool = 9*nn.AvgPool2d(kernel_size=[3,3], stride=1, padding=2, ceil_mode=False)\n",
    "        \n",
    "        self.conv1 = nn.Conv2d(in_channels=2, out_channels=5, kernel_size=3, stride=1, padding=2)\n",
    "        self.maxpool1 = nn.MaxPool2d(kernel_size=4)\n",
    "        self.conv2 = nn.Conv2d(in_channels=5, out_channels=10, kernel_size=3, stride=1, padding=2)\n",
    "        self.maxpool2 = nn.MaxPool2d(kernel_size=5)\n",
    "        self.relu1 = nn.ReLU()\n",
    "        \n",
    "        self.fc = nn.Linear(in_features=25*25*10, out_features=num_classes)\n",
    "        \n",
    "        #self.conv4 = nn.Conv2d(in_channels=24, out_channels=24, kernel_size=3, stride=1, padding=1)\n",
    "        #self.fc = nn.Linear(in_features=16 * 16 * 24, out_features=num_classes)\n",
    "\n",
    "    def forward(self, input_):\n",
    "        output = self.sumpool(input_)\n",
    "        output = self.conv1(output)\n",
    "        output = self.maxpool(output)\n",
    "        output = self.conv2(output)\n",
    "        output = self.maxpool2(output)\n",
    "        output = self.relu1(output)\n",
    "        #output = self.softmax(output)\n",
    "        output = output.view(-1, 25*25*10)\n",
    "        output = self.fc(output)\n",
    "\n",
    "        return output"
   ]
  },
  {
   "cell_type": "code",
   "execution_count": 3,
   "metadata": {},
   "outputs": [],
   "source": [
    "class Net(nn.Module):\n",
    "    def __init__(self):\n",
    "        super(Net, self).__init__()\n",
    "        self.fc1 = nn.Linear(4, 10)\n",
    "        self.fc2 = nn.Linear(10, 2)\n",
    "    \n",
    "        \n",
    "    def forward(self, x):\n",
    "        x = F.relu(self.fc1(x))\n",
    "        x = self.fc2(x)\n",
    "        return F.log_softmax(x)"
   ]
  },
  {
   "cell_type": "code",
   "execution_count": 4,
   "metadata": {},
   "outputs": [
    {
     "name": "stdout",
     "output_type": "stream",
     "text": [
      "Net(\n",
      "  (fc1): Linear(in_features=4, out_features=10, bias=True)\n",
      "  (fc2): Linear(in_features=10, out_features=2, bias=True)\n",
      ")\n"
     ]
    }
   ],
   "source": [
    "net = Net()\n",
    "print(net)"
   ]
  },
  {
   "cell_type": "code",
   "execution_count": null,
   "metadata": {},
   "outputs": [],
   "source": [
    "# create a stochastic gradient descent optimizer\n",
    "optimizer = optim.SGD(net.parameters(), lr=.1, momentum=0.9)\n",
    "# create a loss function\n",
    "criterion = nn.NLLLoss()"
   ]
  },
  {
   "cell_type": "code",
   "execution_count": null,
   "metadata": {},
   "outputs": [],
   "source": [
    "for i in range(num_training):\n",
    "    datum = #call sbm creator here\n",
    "    target = \n",
    "    data, target = Variable(data), Variable(target)\n",
    "    optimizer.zero_grad()\n",
    "    net_out = net(data)\n",
    "    loss = criterion(net_out, target)\n",
    "    loss.backward()\n",
    "    optimizer.step()\n",
    "    if batch_idx % log_interval == 0:"
   ]
  }
 ],
 "metadata": {
  "kernelspec": {
   "display_name": "Python 3",
   "language": "python",
   "name": "python3"
  },
  "language_info": {
   "codemirror_mode": {
    "name": "ipython",
    "version": 3
   },
   "file_extension": ".py",
   "mimetype": "text/x-python",
   "name": "python",
   "nbconvert_exporter": "python",
   "pygments_lexer": "ipython3",
   "version": "3.6.4"
  }
 },
 "nbformat": 4,
 "nbformat_minor": 2
}
